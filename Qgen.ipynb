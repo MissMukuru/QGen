{
 "cells": [
  {
   "cell_type": "markdown",
   "metadata": {},
   "source": [
    "QR_CODE GENERATOR"
   ]
  },
  {
   "cell_type": "code",
   "execution_count": 2,
   "metadata": {},
   "outputs": [],
   "source": [
    "import qrcode\n",
    "from PIL import Image\n",
    "\n",
    "qr = qrcode.QRCode(\n",
    "    version = 15,\n",
    "    box_size = 10,\n",
    "    border = 5\n",
    ")\n",
    "data = \"https://open.spotify.com/artist/4dpARuHxo51G3z768sgnrY\"\n",
    "\n",
    "qr.add_data(data)\n",
    "\n",
    "qr.make(fit = True)\n",
    "\n",
    "image = qr.make_image(fill_color = \"purple\",\n",
    "                      back_color = \"White\")\n",
    "\n",
    "image.save(\"QGen.jpg\")"
   ]
  }
 ],
 "metadata": {
  "kernelspec": {
   "display_name": "Python 3",
   "language": "python",
   "name": "python3"
  },
  "language_info": {
   "codemirror_mode": {
    "name": "ipython",
    "version": 3
   },
   "file_extension": ".py",
   "mimetype": "text/x-python",
   "name": "python",
   "nbconvert_exporter": "python",
   "pygments_lexer": "ipython3",
   "version": "3.12.3"
  }
 },
 "nbformat": 4,
 "nbformat_minor": 2
}
